{
 "cells": [
  {
   "cell_type": "markdown",
   "metadata": {},
   "source": [
    "<br><br>\n",
    "<center><font size='5'><b>Deep Learning for All_pytorch</b></font><br><br><font size='5'>Recurrent Neural Network<b></b></font>"
   ]
  },
  {
   "cell_type": "markdown",
   "metadata": {},
   "source": [
    "# RNN intro"
   ]
  },
  {
   "cell_type": "markdown",
   "metadata": {},
   "source": [
    "![image](https://user-images.githubusercontent.com/48466625/62601196-c3ba2780-b92b-11e9-961c-d14cef70ae31.png)\n",
    "\n",
    "- 데이터의 순서도 데이터의 일부인 데이터 : sequential data\n",
    "- cell A가 공유되는 과정을 hidden state라고 함. \n",
    "- 모든 cell(A)이 파라미터를 공유한다.\n",
    "  - cell A만 알면 시계열 데이터 예측이 가능하다."
   ]
  },
  {
   "cell_type": "markdown",
   "metadata": {},
   "source": [
    "![image](https://user-images.githubusercontent.com/48466625/62602370-91f69000-b92e-11e9-841f-c517d847f9d7.png)\n",
    "\n",
    "그렇다면 cell A안에서는...\n",
    "\n",
    "- 전 단계에서의 hidden state와 현재 단계에서의 input을 통해 $h_t$를 리턴"
   ]
  },
  {
   "cell_type": "markdown",
   "metadata": {},
   "source": [
    "![image](https://user-images.githubusercontent.com/48466625/62602508-e4d04780-b92e-11e9-918f-0122c1808ee4.png)\n",
    "\n",
    "- one to one : 그냥 뉴럴넷\n",
    "- one to many : 이미지가 들어갔을 때 문장이 나오는\n",
    "- many to one : 문장이 들어갔을 때 sentiment label\n",
    "- many to many \n",
    " - 문장이 들어가고 문장이 출력되는 것 // 문장이 끝난 시점부터 아웃풋 문장이 시작되는것 (번역 task)\n",
    " - 비디오 같은 것, 여러 이미지가 들어갈때마다 captioning 출력을 내는."
   ]
  },
  {
   "cell_type": "markdown",
   "metadata": {},
   "source": [
    "# RNN in PyTorch\n",
    "\n",
    "- cell A 선언 : rnn = torch.nn.RNN(input_size, hidden_size)\n",
    "- 인풋을 cell A에 넣고 아웃풋을 반환 : outputs, status = rnn(input_data)\n",
    "  - input_data의 shape은 (x,x,x)"
   ]
  },
  {
   "cell_type": "markdown",
   "metadata": {},
   "source": [
    "## Input, hidden size "
   ]
  },
  {
   "cell_type": "markdown",
   "metadata": {},
   "source": [
    "![image](https://user-images.githubusercontent.com/48466625/62605228-9625ac00-b934-11e9-8d53-d8157b7c79ab.png)\n",
    "\n",
    "- \"hello\"를 인풋으로 넣기 위해 one-hot encoding으로 벡터화\n",
    "  - input_size = 4 (embedding dimension)\n",
    "\n",
    "![image](https://user-images.githubusercontent.com/48466625/62605328-d553fd00-b934-11e9-942d-6db59e88d77e.png)\n",
    "\n",
    "- hidden_size : 어떤 차원의 벡터를 받기를 원한다.\n",
    "  - 예를들어, 슬픔/기쁨/분노 감정 중에서 하나 추론해야 한다 하면 3이 되어야 함.\n",
    "  - 셀 내부 구조때문에, output size = hidden size"
   ]
  },
  {
   "cell_type": "markdown",
   "metadata": {},
   "source": [
    "## Sequence length\n",
    "\n",
    "![image](https://user-images.githubusercontent.com/48466625/62605580-6d51e680-b935-11e9-9e6e-c2c7b7d24ab3.png)\n",
    "\n",
    "- 파이토치의 강력한 점 : 모델이 시퀀스 길이를 자동으로 파악"
   ]
  },
  {
   "cell_type": "markdown",
   "metadata": {},
   "source": [
    "## Batch size\n",
    "\n",
    "![image](https://user-images.githubusercontent.com/48466625/62605754-b7d36300-b935-11e9-87e4-b5d417c8a554.png)\n",
    "\n",
    "- batch_size 역시 자동으로 파악"
   ]
  },
  {
   "cell_type": "markdown",
   "metadata": {},
   "source": [
    "# RNN 동작하는 모델 구성 예제"
   ]
  },
  {
   "cell_type": "code",
   "execution_count": 1,
   "metadata": {
    "ExecuteTime": {
     "end_time": "2019-08-07T08:09:49.755897Z",
     "start_time": "2019-08-07T08:09:48.991840Z"
    }
   },
   "outputs": [],
   "source": [
    "import torch\n",
    "import numpy as np\n",
    "\n",
    "input_size = 4\n",
    "hidden_size = 2"
   ]
  },
  {
   "cell_type": "code",
   "execution_count": 9,
   "metadata": {
    "ExecuteTime": {
     "end_time": "2019-08-07T08:13:44.897057Z",
     "start_time": "2019-08-07T08:13:44.892070Z"
    }
   },
   "outputs": [],
   "source": [
    "# one-hot\n",
    "\n",
    "h = [1,0,0,0]\n",
    "e = [0,1,0,0]\n",
    "l = [0,0,1,0]\n",
    "o = [0,0,0,1]\n",
    "\n",
    "input_data_np = np.array([[h,e,l,l,o],\n",
    "                         [e,o,l,l,l],\n",
    "                         [l,l,e,e,l]]) # 사이즈 : (3,5,4)\n",
    "# input, hidden 사이즈는 사용자 지정 \n",
    "# 시퀀스 길이 = 5 (자동)\n",
    "# 배치사이즈 = 3 (자동)"
   ]
  },
  {
   "cell_type": "code",
   "execution_count": 13,
   "metadata": {
    "ExecuteTime": {
     "end_time": "2019-08-07T08:13:50.333517Z",
     "start_time": "2019-08-07T08:13:50.328531Z"
    }
   },
   "outputs": [],
   "source": [
    "# tensor로 변환\n",
    "\n",
    "input_data = torch.Tensor(input_data_np)\n",
    "\n",
    "# rnn 셀 지정과 그 셀에 인풋데이터 넣기 \n",
    "rnn = torch.nn.RNN(input_size, hidden_size)\n",
    "outputs, _status = rnn(input_data)"
   ]
  },
  {
   "cell_type": "code",
   "execution_count": 14,
   "metadata": {
    "ExecuteTime": {
     "end_time": "2019-08-07T08:14:25.605206Z",
     "start_time": "2019-08-07T08:14:25.602214Z"
    }
   },
   "outputs": [
    {
     "name": "stdout",
     "output_type": "stream",
     "text": [
      "RNN(4, 2)\n"
     ]
    }
   ],
   "source": [
    "print(rnn)"
   ]
  },
  {
   "cell_type": "code",
   "execution_count": 15,
   "metadata": {
    "ExecuteTime": {
     "end_time": "2019-08-07T08:14:29.046964Z",
     "start_time": "2019-08-07T08:14:29.042950Z"
    }
   },
   "outputs": [
    {
     "name": "stdout",
     "output_type": "stream",
     "text": [
      "tensor([[[ 0.9186,  0.0371],\n",
      "         [ 0.4900,  0.1084],\n",
      "         [ 0.8513,  0.1079],\n",
      "         [ 0.8513,  0.1079],\n",
      "         [ 0.8665, -0.0509]],\n",
      "\n",
      "        [[ 0.5615, -0.4196],\n",
      "         [ 0.8778, -0.3032],\n",
      "         [ 0.8735, -0.3613],\n",
      "         [ 0.8735, -0.3613],\n",
      "         [ 0.8763, -0.4216]],\n",
      "\n",
      "        [[ 0.8738, -0.3833],\n",
      "         [ 0.8802, -0.5042],\n",
      "         [ 0.5750, -0.5186],\n",
      "         [ 0.5750, -0.5186],\n",
      "         [ 0.8818, -0.5371]]], grad_fn=<StackBackward>)\n"
     ]
    }
   ],
   "source": [
    "print(outputs)"
   ]
  },
  {
   "cell_type": "code",
   "execution_count": 16,
   "metadata": {
    "ExecuteTime": {
     "end_time": "2019-08-07T08:14:38.309919Z",
     "start_time": "2019-08-07T08:14:38.306927Z"
    }
   },
   "outputs": [
    {
     "name": "stdout",
     "output_type": "stream",
     "text": [
      "torch.Size([3, 5, 2])\n"
     ]
    }
   ],
   "source": [
    "print(outputs.size())"
   ]
  },
  {
   "cell_type": "markdown",
   "metadata": {},
   "source": [
    "# hihello problem"
   ]
  },
  {
   "cell_type": "markdown",
   "metadata": {},
   "source": [
    "## character를 표현하기 \n",
    "\n",
    "- index로 표현 후 원핫"
   ]
  },
  {
   "cell_type": "code",
   "execution_count": 56,
   "metadata": {
    "ExecuteTime": {
     "end_time": "2019-08-07T08:42:51.748757Z",
     "start_time": "2019-08-07T08:42:51.745742Z"
    }
   },
   "outputs": [],
   "source": [
    "import torch\n",
    "import torch.optim as optim\n",
    "import numpy as np"
   ]
  },
  {
   "cell_type": "code",
   "execution_count": 57,
   "metadata": {
    "ExecuteTime": {
     "end_time": "2019-08-07T08:42:51.917282Z",
     "start_time": "2019-08-07T08:42:51.912319Z"
    }
   },
   "outputs": [],
   "source": [
    "char_set = ['h', 'i', 'e', 'l', 'o']\n",
    "\n",
    "# hihell. o를 뺀 것을 넣어야 o를 예측하는 모델이 된다.\n",
    "x_data = [[0, 1, 0, 2, 3, 3]] # 캐릭터들을 인덱스로 표현한 것과\n",
    "\n",
    "# 인덱스 표현을 원핫 인코딩 한것 \n",
    "x_one_hot = [[[1, 0, 0, 0, 0],\n",
    "              [0, 1, 0, 0, 0],\n",
    "              [1, 0, 0, 0, 0],\n",
    "              [0, 0, 1, 0, 0],\n",
    "              [0, 0, 0, 1, 0],\n",
    "              [0, 0, 0, 1, 0]]]\n",
    "\n",
    "# 아웃풋은 인덱스로 표현 \n",
    "y_data = [[1, 0, 2, 3, 3, 4]] # ihello"
   ]
  },
  {
   "cell_type": "markdown",
   "metadata": {},
   "source": [
    "## Cross entropy loss\n",
    "\n",
    "- categorical output에 쓰임"
   ]
  },
  {
   "cell_type": "markdown",
   "metadata": {},
   "source": [
    "## Parameters"
   ]
  },
  {
   "cell_type": "code",
   "execution_count": 58,
   "metadata": {
    "ExecuteTime": {
     "end_time": "2019-08-07T08:42:52.374061Z",
     "start_time": "2019-08-07T08:42:52.371069Z"
    }
   },
   "outputs": [],
   "source": [
    "char_set = ['h', 'i', 'e', 'l', 'o']\n",
    "\n",
    "input_size = len(char_set)\n",
    "hidden_size = len(char_set)\n",
    "\n",
    "# 인풋도 5개, 아웃풋도 5개가 나온다."
   ]
  },
  {
   "cell_type": "code",
   "execution_count": 59,
   "metadata": {
    "ExecuteTime": {
     "end_time": "2019-08-07T08:42:52.474791Z",
     "start_time": "2019-08-07T08:42:52.471799Z"
    }
   },
   "outputs": [],
   "source": [
    "# tensor로 변환\n",
    "\n",
    "X = torch.FloatTensor(x_one_hot)\n",
    "Y = torch.LongTensor(y_data)"
   ]
  },
  {
   "cell_type": "markdown",
   "metadata": {},
   "source": [
    "## Train"
   ]
  },
  {
   "cell_type": "code",
   "execution_count": 60,
   "metadata": {
    "ExecuteTime": {
     "end_time": "2019-08-07T08:42:52.707530Z",
     "start_time": "2019-08-07T08:42:52.704515Z"
    }
   },
   "outputs": [],
   "source": [
    "rnn = torch.nn.RNN(input_size, hidden_size, batch_first=True)\n",
    "# batch_first는 output 순서를 배치dimension이 가장 앞으로.하는 것"
   ]
  },
  {
   "cell_type": "code",
   "execution_count": 61,
   "metadata": {
    "ExecuteTime": {
     "end_time": "2019-08-07T08:42:52.804273Z",
     "start_time": "2019-08-07T08:42:52.800278Z"
    }
   },
   "outputs": [],
   "source": [
    "# loss function & optimizer\n",
    "learning_rate = 0.01\n",
    "criterion = torch.nn.CrossEntropyLoss()\n",
    "optimizer = optim.Adam(rnn.parameters(), learning_rate)"
   ]
  },
  {
   "cell_type": "code",
   "execution_count": 62,
   "metadata": {
    "ExecuteTime": {
     "end_time": "2019-08-07T08:42:53.096287Z",
     "start_time": "2019-08-07T08:42:52.937910Z"
    }
   },
   "outputs": [
    {
     "name": "stdout",
     "output_type": "stream",
     "text": [
      "0 loss: 1.7954508066177368 prediction: [[2 4 4 2 4 4]] trueY: [[1, 0, 2, 3, 3, 4]] prediction_str: eooeoo\n",
      "10 loss: 1.5314321517944336 prediction: [[2 0 2 0 0 4]] trueY: [[1, 0, 2, 3, 3, 4]] prediction_str: ehehho\n",
      "20 loss: 1.3359946012496948 prediction: [[2 3 2 3 0 4]] trueY: [[1, 0, 2, 3, 3, 4]] prediction_str: elelho\n",
      "30 loss: 1.1990922689437866 prediction: [[2 3 2 3 3 4]] trueY: [[1, 0, 2, 3, 3, 4]] prediction_str: elello\n",
      "40 loss: 1.0812040567398071 prediction: [[2 3 2 3 3 4]] trueY: [[1, 0, 2, 3, 3, 4]] prediction_str: elello\n",
      "50 loss: 0.9866006374359131 prediction: [[2 0 2 3 3 4]] trueY: [[1, 0, 2, 3, 3, 4]] prediction_str: ehello\n",
      "60 loss: 0.9044895172119141 prediction: [[1 0 2 3 3 4]] trueY: [[1, 0, 2, 3, 3, 4]] prediction_str: ihello\n",
      "70 loss: 0.8247724175453186 prediction: [[1 0 2 3 3 4]] trueY: [[1, 0, 2, 3, 3, 4]] prediction_str: ihello\n",
      "80 loss: 0.7494321465492249 prediction: [[1 0 2 3 3 4]] trueY: [[1, 0, 2, 3, 3, 4]] prediction_str: ihello\n",
      "90 loss: 0.687522828578949 prediction: [[1 0 2 3 3 4]] trueY: [[1, 0, 2, 3, 3, 4]] prediction_str: ihello\n"
     ]
    }
   ],
   "source": [
    "for i in range(100):\n",
    "    optimizer.zero_grad() \n",
    "    outputs, _status = rnn(X) #_status : hidden state\n",
    "    \n",
    "    loss = criterion(outputs.view(-1, input_size), Y.view(-1))\n",
    "    loss.backward()\n",
    "    optimizer.step()\n",
    "    \n",
    "    \n",
    "    # outputs을 넘파이로 가져와서 argmax한 부분과 char_set 값을 join해줌\n",
    "    # np.squeeze : 디멘젼이 1인 것을 없애주는\n",
    "    result = outputs.data.numpy().argmax(axis=2)\n",
    "    result_str = ''.join([char_set[c] for c in np.squeeze(result)])\n",
    "    \n",
    "    if i % 10 == 0:\n",
    "        print(i, \"loss:\", loss.item(), \"prediction:\", result, \"trueY:\", y_data, \"prediction_str:\", result_str)"
   ]
  },
  {
   "cell_type": "markdown",
   "metadata": {},
   "source": [
    "# charseq (Character Sequence)"
   ]
  },
  {
   "cell_type": "code",
   "execution_count": 63,
   "metadata": {
    "ExecuteTime": {
     "end_time": "2019-08-07T08:43:45.724810Z",
     "start_time": "2019-08-07T08:43:45.720842Z"
    }
   },
   "outputs": [],
   "source": [
    "import torch\n",
    "import torch.optim as optim\n",
    "import numpy as np"
   ]
  },
  {
   "cell_type": "code",
   "execution_count": 64,
   "metadata": {
    "ExecuteTime": {
     "end_time": "2019-08-07T08:43:51.720349Z",
     "start_time": "2019-08-07T08:43:51.688460Z"
    }
   },
   "outputs": [
    {
     "data": {
      "text/plain": [
       "<torch._C.Generator at 0x195ae1cc030>"
      ]
     },
     "execution_count": 64,
     "metadata": {},
     "output_type": "execute_result"
    }
   ],
   "source": [
    "# Random seed to make results deterministic and reproducible\n",
    "torch.manual_seed(0)"
   ]
  },
  {
   "cell_type": "code",
   "execution_count": 67,
   "metadata": {
    "ExecuteTime": {
     "end_time": "2019-08-07T08:44:28.531419Z",
     "start_time": "2019-08-07T08:44:28.528426Z"
    }
   },
   "outputs": [],
   "source": [
    "sample = \"if you want you\""
   ]
  },
  {
   "cell_type": "code",
   "execution_count": 71,
   "metadata": {
    "ExecuteTime": {
     "end_time": "2019-08-07T08:45:52.691857Z",
     "start_time": "2019-08-07T08:45:52.687896Z"
    }
   },
   "outputs": [
    {
     "data": {
      "text/plain": [
       "['o', ' ', 'a', 'n', 'w', 'f', 'u', 'i', 'y', 't']"
      ]
     },
     "execution_count": 71,
     "metadata": {},
     "output_type": "execute_result"
    }
   ],
   "source": [
    "# 딕셔너리 만들기 \n",
    "\n",
    "# 안에 있는 문자를 먼저 리스트로 만들고\n",
    "char_set = list(set(sample))\n",
    "char_set"
   ]
  },
  {
   "cell_type": "code",
   "execution_count": 72,
   "metadata": {
    "ExecuteTime": {
     "end_time": "2019-08-07T08:46:06.406573Z",
     "start_time": "2019-08-07T08:46:06.402578Z"
    }
   },
   "outputs": [
    {
     "data": {
      "text/plain": [
       "{'o': 0,\n",
       " ' ': 1,\n",
       " 'a': 2,\n",
       " 'n': 3,\n",
       " 'w': 4,\n",
       " 'f': 5,\n",
       " 'u': 6,\n",
       " 'i': 7,\n",
       " 'y': 8,\n",
       " 't': 9}"
      ]
     },
     "execution_count": 72,
     "metadata": {},
     "output_type": "execute_result"
    }
   ],
   "source": [
    "# 인덱스 만들기 딕셔너리로\n",
    "char_dic = {c: i for i, c in enumerate(char_set)}\n",
    "char_dic"
   ]
  },
  {
   "cell_type": "code",
   "execution_count": 73,
   "metadata": {
    "ExecuteTime": {
     "end_time": "2019-08-07T08:46:47.332254Z",
     "start_time": "2019-08-07T08:46:47.328265Z"
    }
   },
   "outputs": [],
   "source": [
    "# hyper parameters\n",
    "\n",
    "input_size = len(char_dic)\n",
    "hidden_size = len(char_dic)\n",
    "learning_rate = 0.1"
   ]
  },
  {
   "cell_type": "markdown",
   "metadata": {},
   "source": [
    "데이터 준비"
   ]
  },
  {
   "cell_type": "code",
   "execution_count": 78,
   "metadata": {
    "ExecuteTime": {
     "end_time": "2019-08-07T08:47:53.149129Z",
     "start_time": "2019-08-07T08:47:53.145163Z"
    },
    "scrolled": true
   },
   "outputs": [
    {
     "name": "stdout",
     "output_type": "stream",
     "text": [
      "7\n",
      "5\n",
      "1\n",
      "8\n",
      "0\n",
      "6\n",
      "1\n",
      "4\n",
      "2\n",
      "3\n",
      "9\n",
      "1\n",
      "8\n",
      "0\n",
      "6\n"
     ]
    }
   ],
   "source": [
    "for c in sample:\n",
    "    print(char_dic[c])"
   ]
  },
  {
   "cell_type": "code",
   "execution_count": 79,
   "metadata": {
    "ExecuteTime": {
     "end_time": "2019-08-07T08:49:23.849777Z",
     "start_time": "2019-08-07T08:49:23.846784Z"
    }
   },
   "outputs": [
    {
     "data": {
      "text/plain": [
       "[7, 5, 1, 8, 0, 6, 1, 4, 2, 3, 9, 1, 8, 0, 6]"
      ]
     },
     "execution_count": 79,
     "metadata": {},
     "output_type": "execute_result"
    }
   ],
   "source": [
    "sample_idx = [char_dic[c] for c in sample]\n",
    "sample_idx"
   ]
  },
  {
   "cell_type": "code",
   "execution_count": 84,
   "metadata": {
    "ExecuteTime": {
     "end_time": "2019-08-07T08:51:51.571141Z",
     "start_time": "2019-08-07T08:51:51.567129Z"
    }
   },
   "outputs": [],
   "source": [
    "x_data = [sample_idx[:-1]]\n",
    "x_one_hot = [np.eye(input_size)[x] for x in x_data]\n",
    "y_data = [sample_idx[1:]]"
   ]
  },
  {
   "cell_type": "code",
   "execution_count": 90,
   "metadata": {
    "ExecuteTime": {
     "end_time": "2019-08-07T08:53:34.851329Z",
     "start_time": "2019-08-07T08:53:34.847340Z"
    }
   },
   "outputs": [],
   "source": [
    "X = torch.FloatTensor(x_one_hot)\n",
    "Y = torch.LongTensor(y_data)"
   ]
  },
  {
   "cell_type": "code",
   "execution_count": 86,
   "metadata": {
    "ExecuteTime": {
     "end_time": "2019-08-07T08:52:34.787313Z",
     "start_time": "2019-08-07T08:52:34.784322Z"
    }
   },
   "outputs": [],
   "source": [
    "rnn = torch.nn.RNN(input_size, hidden_size, batch_first=True)"
   ]
  },
  {
   "cell_type": "code",
   "execution_count": 87,
   "metadata": {
    "ExecuteTime": {
     "end_time": "2019-08-07T08:52:35.705887Z",
     "start_time": "2019-08-07T08:52:35.702866Z"
    }
   },
   "outputs": [],
   "source": [
    "# loss & optimizer setting\n",
    "criterion = torch.nn.CrossEntropyLoss()\n",
    "optimizer = optim.Adam(rnn.parameters(), learning_rate)"
   ]
  },
  {
   "cell_type": "code",
   "execution_count": 91,
   "metadata": {
    "ExecuteTime": {
     "end_time": "2019-08-07T08:53:36.512848Z",
     "start_time": "2019-08-07T08:53:36.359259Z"
    }
   },
   "outputs": [
    {
     "name": "stdout",
     "output_type": "stream",
     "text": [
      "0 loss:  2.321746349334717 prediction:  [[1 7 0 8 5 8 8 7 7 7 6 5 7 5]] true Y:  [[5, 1, 8, 0, 6, 1, 4, 2, 3, 9, 1, 8, 0, 6]] prediction str:   ioyfyyiiiufif\n",
      "5 loss:  1.3996639251708984 prediction:  [[1 1 8 0 6 1 8 2 3 1 1 8 0 6]] true Y:  [[5, 1, 8, 0, 6, 1, 4, 2, 3, 9, 1, 8, 0, 6]] prediction str:    you yan  you\n",
      "10 loss:  1.0234863758087158 prediction:  [[5 1 8 0 6 1 4 2 3 9 1 8 0 6]] true Y:  [[5, 1, 8, 0, 6, 1, 4, 2, 3, 9, 1, 8, 0, 6]] prediction str:  f you want you\n",
      "15 loss:  0.9115930795669556 prediction:  [[5 1 8 0 6 1 4 2 3 9 1 8 0 6]] true Y:  [[5, 1, 8, 0, 6, 1, 4, 2, 3, 9, 1, 8, 0, 6]] prediction str:  f you want you\n",
      "20 loss:  0.8594237565994263 prediction:  [[5 1 8 0 6 1 4 2 3 9 1 8 0 6]] true Y:  [[5, 1, 8, 0, 6, 1, 4, 2, 3, 9, 1, 8, 0, 6]] prediction str:  f you want you\n",
      "25 loss:  0.8338321447372437 prediction:  [[5 1 8 0 6 1 4 2 3 9 1 8 0 6]] true Y:  [[5, 1, 8, 0, 6, 1, 4, 2, 3, 9, 1, 8, 0, 6]] prediction str:  f you want you\n",
      "30 loss:  0.8244613409042358 prediction:  [[5 1 8 0 6 1 4 2 3 9 1 8 0 6]] true Y:  [[5, 1, 8, 0, 6, 1, 4, 2, 3, 9, 1, 8, 0, 6]] prediction str:  f you want you\n",
      "35 loss:  0.8185870051383972 prediction:  [[5 1 8 0 6 1 4 2 3 9 1 8 0 6]] true Y:  [[5, 1, 8, 0, 6, 1, 4, 2, 3, 9, 1, 8, 0, 6]] prediction str:  f you want you\n",
      "40 loss:  0.8157709240913391 prediction:  [[5 1 8 0 6 1 4 2 3 9 1 8 0 6]] true Y:  [[5, 1, 8, 0, 6, 1, 4, 2, 3, 9, 1, 8, 0, 6]] prediction str:  f you want you\n",
      "45 loss:  0.8140474557876587 prediction:  [[5 1 8 0 6 1 4 2 3 9 1 8 0 6]] true Y:  [[5, 1, 8, 0, 6, 1, 4, 2, 3, 9, 1, 8, 0, 6]] prediction str:  f you want you\n"
     ]
    }
   ],
   "source": [
    "# start training\n",
    "for i in range(50):\n",
    "    optimizer.zero_grad()\n",
    "    outputs, _status = rnn(X)\n",
    "    loss = criterion(outputs.view(-1, input_size), Y.view(-1))\n",
    "    loss.backward()\n",
    "    optimizer.step()\n",
    "\n",
    "    result = outputs.data.numpy().argmax(axis=2)\n",
    "    result_str = ''.join([char_set[c] for c in np.squeeze(result)])\n",
    "    \n",
    "    if i % 5 == 0:\n",
    "        print(i, \"loss: \", loss.item(), \"prediction: \", result, \"true Y: \", y_data, \"prediction str: \", result_str)"
   ]
  }
 ],
 "metadata": {
  "kernelspec": {
   "display_name": "Python 3",
   "language": "python",
   "name": "python3"
  },
  "language_info": {
   "codemirror_mode": {
    "name": "ipython",
    "version": 3
   },
   "file_extension": ".py",
   "mimetype": "text/x-python",
   "name": "python",
   "nbconvert_exporter": "python",
   "pygments_lexer": "ipython3",
   "version": "3.7.2"
  },
  "toc": {
   "base_numbering": 1,
   "nav_menu": {},
   "number_sections": true,
   "sideBar": true,
   "skip_h1_title": false,
   "title_cell": "Table of Contents",
   "title_sidebar": "Contents",
   "toc_cell": false,
   "toc_position": {},
   "toc_section_display": true,
   "toc_window_display": true
  },
  "varInspector": {
   "cols": {
    "lenName": 16,
    "lenType": 16,
    "lenVar": 40
   },
   "kernels_config": {
    "python": {
     "delete_cmd_postfix": "",
     "delete_cmd_prefix": "del ",
     "library": "var_list.py",
     "varRefreshCmd": "print(var_dic_list())"
    },
    "r": {
     "delete_cmd_postfix": ") ",
     "delete_cmd_prefix": "rm(",
     "library": "var_list.r",
     "varRefreshCmd": "cat(var_dic_list()) "
    }
   },
   "types_to_exclude": [
    "module",
    "function",
    "builtin_function_or_method",
    "instance",
    "_Feature"
   ],
   "window_display": false
  }
 },
 "nbformat": 4,
 "nbformat_minor": 2
}
