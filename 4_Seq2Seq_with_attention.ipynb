{
 "cells": [
  {
   "cell_type": "markdown",
   "metadata": {},
   "source": [
    "<br>\n",
    "<font size='6'><b>Sequence to sequence with attention</b></font><br><br>\n",
    "\n",
    "<br>\n",
    "<div class=pull-right>\n",
    "By Sooyoung Lee<br>\n",
    "http://iai.postech.ac.kr/<br>\n",
    "Industrial AI Lab at POSTECH\n",
    "</div>\n",
    "\n",
    "<br>\n",
    "Table of Contents\n",
    "<div id=\"toc\"></div><br>"
   ]
  },
  {
   "cell_type": "markdown",
   "metadata": {},
   "source": [
    "# 1. Journal Review\n",
    "\n",
    "<span class=\"girk\">NEURAL MACHINE TRANSLATION BY JOINTLY LEARNING TO ALIGN AND TRANSLATE, University of Montreal, ICLR 2015</span>"
   ]
  },
  {
   "cell_type": "markdown",
   "metadata": {},
   "source": [
    "## 1.1. Outline\n",
    "\n",
    "- 최초로 attention mechanism을 도입한 논문.<span class=\"mark\">(seq2seq with attention)</span>\n",
    "- <span class=\"mark\">seq2seq을 처음 도입 후 문제점을 해결</span>하기 위해 나온 논문\n",
    "    - Learning Phrase Representations using RNN Encoder–Decoder for Statistical Machine Translation"
   ]
  },
  {
   "cell_type": "markdown",
   "metadata": {},
   "source": [
    "![image](https://user-images.githubusercontent.com/48466625/63660994-d5d50a80-c7f3-11e9-98a9-658be604260a.png)\n",
    "\n",
    "- 상당히 긴 99개의 단어를 고정된 사이즈 벡터에 담으면, 모든 정보를 적절히 담을 수가 없기 때문에, \n",
    "\n",
    "![image](https://user-images.githubusercontent.com/48466625/63661127-5431ac80-c7f4-11e9-8101-bbf0915593c6.png)\n",
    "\n",
    "- Attention 메커니즘을 사용\n",
    "  - 기존 Encoder-Decoder에서는 그냥 마지막에 fixed size의 벡터를 사용했지만,\n",
    "  - <span class=\"mark\">Encoder에서 나온 각각의 State를 모두 활용하여, context vector를 다양하게 만들겠다.</span>\n",
    "- 따라서 얻는 장점 두가지  \n",
    "  - 고정된 사이즈의 문맥벡터가 아니다 -> <span class=\"mark\">각각의 스테이트 별로 다양한 문맥 벡터</span>를 만든다.\n",
    "  - 인코더에서 나오는 모든 스테이트에서, 집중해야될 단어들에게만 <span class=\"mark\">집중할 수 있는 메커니즘을 설계</span>할 수 있다."
   ]
  },
  {
   "cell_type": "markdown",
   "metadata": {},
   "source": [
    "## 1.2. Introduction\n",
    "\n",
    "- 여태까지 발전해온 NMT에서는, Encoder-Decoder가 source 문장이 주어졌을때 <span class=\"mark\">정확한 해석의 확률을 최대화하게끔 jointly trained</span>된다.\n",
    "- <span class=\"mark\">Potential issue --> source 문장에서 모든 필요한 정보를 하나의 fixed-length 벡터로 함축한다는 것</span> --> 긴 문장에 취약.\n",
    "- 하나의 고정 사이즈 벡터로 인코딩하는 것이 아니라, <span class=\"mark\">인풋을 sequence of vector로 인코딩하고, 이 벡터들 중의 subset을 adaptive하게 찾는다.</span>"
   ]
  },
  {
   "cell_type": "markdown",
   "metadata": {},
   "source": [
    "## 1.3. Background : NMT & RNN Encoder-Decoder\n",
    "\n",
    "- 기존의 통계적 기계 번역(SMT)와 달리 NMT는 번역 성능을 올리기 위한 단일 신경망을 만드는 것을 목표로 한다.\n",
    "- 확률적인 관점에서, machine translation은 아래 수식의 <span class=\"mark\">argmax y를 찾는 과정</span>\n",
    "  - <span class=\"mark\">$argmax p(y|x)$</span>\n",
    "  - source 문장 $x$를 인코딩하는 과정과, target 문장 $y$를 디코딩하는 과정 \n",
    "- 가장 일반적인 접근 방법은 RNN Encoder-Decoder 였는데,\n",
    "  - <span class=\"mark\">$h_t = f(x_t, h_{t-1})$ // $h_t$ : hidden state at time $t$,</span> \n",
    "  - <span class=\"mark\">$c = q({h_1, ..., h_{Tx}})$ // $c$ : vector generated from the sequence of the hidden states</span>\n",
    "  - <span class=\"mark\">$f, q$ : nonlinear functions, i.e. LSTM for $f$</span>\n",
    "- Decoder는 다음의 확률로 해석될 수 있음\n",
    "![image](https://user-images.githubusercontent.com/48466625/63665031-6ddaf000-c804-11e9-8c0d-3d8bf95c46ff.png)\n",
    "![image](https://user-images.githubusercontent.com/48466625/63665088-a7abf680-c804-11e9-8e54-d771df668c0f.png)\n"
   ]
  },
  {
   "cell_type": "markdown",
   "metadata": {},
   "source": [
    "## 1.4. Learning to align and translate\n",
    "\n",
    "- Novel architecture with...\n",
    "  - <span class=\"mark\">Align과 Translation을 같이 학습하는 모델</span>\n",
    "  - <span class=\"mark\">bidirectional RNN의 엔코더와, 디코딩 과정에서 source 문장을 검색하는 디코더</span> \n",
    "![image](https://user-images.githubusercontent.com/48466625/63665177-286af280-c805-11e9-92a2-5294c5ef352e.png)\n",
    "<span class=\"mark\">source sentence $(x_1,x_2,...,x_T)$가 주어졌을때, t번째 target word $y_t$를 생성하는 제안 모델</span>\n",
    "\n",
    "### 1.4.1. Decoder : General Description\n",
    "\n",
    "- 각각의 조건부 확률을 아래와 같이 정의\n",
    "  - <span class=\"mark\">$p(y_i|y_1,...,y_{i-1}, X) = g(y_{i-1}, s_i, c_i)$</span>\n",
    "  - where <span class=\"mark\">$s_i = f(s_{i-1}, y_{i-1}, c_i)$ = 시간$i$ 일때 RNN의 hidden state</span>\n",
    "- 여기서 다른 점은, <span class=\"mark\">조건부 확률이 각각의 target word $y_i$에 대해서 contect vector $c_i$로 가변적으로 정의되는 것</span>\n",
    "- <span class=\"mark\">$c_i$는 Encoder의 $(h_1, ..., h_{Tx})$에 의해</span> 계산되며, <span class=\"mark\">각 $h_i$들의 weighted sum</span>으로 계산됨\n",
    "  - <span class=\"mark\">$c_i = \\sum \\alpha_{ij}h_j$</span>\n",
    "- <span class=\"mark\">각 $h_j$의 The weight $\\alpha_{ij}$은 아래와 같이 softmax 형태로 계산됨.</span>\n",
    "- 여기서 <span class=\"mark\">$e_{ij}$는 alignment model이라고 부르는데</span>, <span class=\"mark\">j번째 인풋 주변의 정보들이 얼마나 i번째 아웃풋과 적합한지 점수를 나타냄.</span>\n",
    "![image](https://user-images.githubusercontent.com/48466625/63665609-fb1f4400-c806-11e9-9d9e-94f98da027a9.png)"
   ]
  },
  {
   "cell_type": "markdown",
   "metadata": {},
   "source": [
    "### 1.4.2. Encoder : Bidirectional RNN for annotating sequences\n",
    "\n",
    "- 일반적인 RNN은, input sentence x를 시작부터 끝까지 순서대로 읽는데,\n",
    "- 여기에서는 annotation이 <span class=\"mark\">앞선 단어에 대한 정보 뿐만 아니라, 그 이후에 오는 정보도 포함할 수 있도록 BiRNN을 사용.</span>"
   ]
  },
  {
   "cell_type": "markdown",
   "metadata": {},
   "source": [
    "## 1.5. Experiment and results\n",
    "\n",
    "![image](https://user-images.githubusercontent.com/48466625/63666027-cb713b80-c808-11e9-87f6-e7d296274abd.png)\n",
    "\n",
    "- 인코더는 forward, backward 각각 1,000 hidden units\n",
    "- 디코더 1,000 hidden units\n",
    "- <span class=\"mark\">A single maxout hidden layer 사용 --> 각 target word에 대해 조거부확률을 계산하기 위해서</span> \n",
    "- minibatch(80) SGD together with Adadelta\n",
    "\n",
    "![image](https://user-images.githubusercontent.com/48466625/63666264-bb0d9080-c809-11e9-833a-34ec9d556db6.png)\n",
    "\n",
    "- <span class=\"mark\">각각 단어에 대해 annotation $\\alpha_{ij}$의 값을 픽셀</span>로 나타낸 것. <span class=\"mark\">각각 단어가 매칭되는 부분에서 annotation이 높다.</span>"
   ]
  },
  {
   "cell_type": "markdown",
   "metadata": {},
   "source": [
    "# 2. Understanding"
   ]
  },
  {
   "cell_type": "markdown",
   "metadata": {},
   "source": [
    "![image](https://user-images.githubusercontent.com/48466625/63669183-5b68b280-c814-11e9-946f-afbfaa8178f5.png)\n",
    "![image](https://user-images.githubusercontent.com/48466625/63669212-6de2ec00-c814-11e9-9362-d9f4a4da7ee0.png)\n",
    "\n",
    "![image](https://user-images.githubusercontent.com/48466625/63668310-b4831700-c811-11e9-99ae-2ba2d817bf75.png)"
   ]
  },
  {
   "cell_type": "markdown",
   "metadata": {},
   "source": [
    "# 3. Tutorials1_NLP"
   ]
  },
  {
   "cell_type": "code",
   "execution_count": 47,
   "metadata": {
    "ExecuteTime": {
     "end_time": "2019-08-26T07:00:15.232602Z",
     "start_time": "2019-08-26T07:00:15.228607Z"
    }
   },
   "outputs": [],
   "source": [
    "from __future__ import unicode_literals, print_function, division\n",
    "from io import open\n",
    "import unicodedata\n",
    "import string\n",
    "import re\n",
    "import random\n",
    "\n",
    "import torch\n",
    "import torch.nn as nn\n",
    "from torch import optim\n",
    "import torch.nn.functional as F\n",
    "\n",
    "device = torch.device(\"cuda\" if torch.cuda.is_available() else \"cpu\")"
   ]
  },
  {
   "cell_type": "markdown",
   "metadata": {},
   "source": [
    "## 3.1. Dataset loading\n",
    "\n",
    "- English to french translation\n",
    "- 문장의 각 단어들은 one-hot 인코딩을 진행한다. \n",
    "![image](https://user-images.githubusercontent.com/48466625/63669850-1f365180-c816-11e9-9605-1f155ea9316a.png)\n",
    "- Network에 입력하고 추적하려면 Word to index, index to word, word2count를 가진 Lang이라는 헬퍼 클래스 사용\n",
    "- 파일은 모두 유니코드로 되어있어, 간단하게 하기 위해 유니코드 문자를 ASCII로 변환하고,\n",
    "- 모든 문자를 소문자로 만들고, 대부분의 구두점을 지워준다."
   ]
  },
  {
   "cell_type": "code",
   "execution_count": 48,
   "metadata": {
    "ExecuteTime": {
     "end_time": "2019-08-26T07:00:36.334998Z",
     "start_time": "2019-08-26T07:00:36.329015Z"
    }
   },
   "outputs": [],
   "source": [
    "SOS_token = 0\n",
    "EOS_token = 1\n",
    "\n",
    "\n",
    "class Lang:\n",
    "    def __init__(self, name):\n",
    "        self.name = name\n",
    "        self.word2index = {}\n",
    "        self.word2count = {}\n",
    "        self.index2word = {0: \"SOS\", 1: \"EOS\"}\n",
    "        self.n_words = 2  # SOS 와 EOS 단어 숫자 포함\n",
    "        \n",
    "    def addSentence(self, sentence):\n",
    "        for word in sentence.split(' '):\n",
    "            self.addWord(word)\n",
    "\n",
    "    def addWord(self, word):\n",
    "        if word not in self.word2index:\n",
    "            self.word2index[word] = self.n_words\n",
    "            self.word2count[word] = 1\n",
    "            self.index2word[self.n_words] = word\n",
    "            self.n_words += 1\n",
    "        else:\n",
    "            self.word2count[word] += 1"
   ]
  },
  {
   "cell_type": "code",
   "execution_count": 49,
   "metadata": {
    "ExecuteTime": {
     "end_time": "2019-08-26T07:00:59.453713Z",
     "start_time": "2019-08-26T07:00:59.448750Z"
    }
   },
   "outputs": [],
   "source": [
    "# 유니 코드 문자열을 일반 ASCII로 변환하십시오.\n",
    "def unicodeToAscii(s):\n",
    "    return ''.join(\n",
    "        c for c in unicodedata.normalize('NFD', s)\n",
    "        if unicodedata.category(c) != 'Mn'\n",
    "    )\n",
    "\n",
    "\n",
    "\n",
    "# 소문자, 다듬기, 그리고 문자가 아닌 문자 제거\n",
    "def normalizeString(s):\n",
    "    s = unicodeToAscii(s.lower().strip())\n",
    "    s = re.sub(r\"([.!?])\", r\" \\1\", s)\n",
    "    s = re.sub(r\"[^a-zA-Z.!?]+\", r\" \", s)\n",
    "    return s"
   ]
  },
  {
   "cell_type": "markdown",
   "metadata": {},
   "source": [
    "- 데이터 파일을 줄로 나누고, 줄을 pair로 나눈다. \n",
    "- 파일은 모두 영어->기타언어 순인데 만약 반대로 번역한다면 쌍을 뒤집도록 ```reverse``` 플래그 추가"
   ]
  },
  {
   "cell_type": "code",
   "execution_count": 50,
   "metadata": {
    "ExecuteTime": {
     "end_time": "2019-08-26T07:01:24.550729Z",
     "start_time": "2019-08-26T07:01:24.545743Z"
    }
   },
   "outputs": [],
   "source": [
    "def readLangs(lang1, lang2, reverse=False):\n",
    "    print(\"Reading lines...\")\n",
    "\n",
    "    # Read the file and split into lines\n",
    "    lines = open('data/%s-%s.txt' % (lang1, lang2), encoding='utf-8').\\\n",
    "        read().strip().split('\\n')\n",
    "\n",
    "\n",
    "    # 모든 줄을 쌍으로 분리하고 정규화 하십시오\n",
    "    pairs = [[normalizeString(s) for s in l.split('\\t')] for l in lines]\n",
    "\n",
    "    # 쌍을 뒤집고, Lang 인스턴스를 만드십시오\n",
    "    if reverse:\n",
    "        pairs = [list(reversed(p)) for p in pairs]\n",
    "        input_lang = Lang(lang2)\n",
    "        output_lang = Lang(lang1)\n",
    "    else:\n",
    "        input_lang = Lang(lang1)\n",
    "        output_lang = Lang(lang2)\n",
    "\n",
    "    return input_lang, output_lang, pairs"
   ]
  },
  {
   "cell_type": "markdown",
   "metadata": {},
   "source": [
    "- 비교적 짧고 간단한 문장으로 데이터셋을 정리할 것. 최대 길이 10단어로 해보자. \n",
    "- 어포스트로피는 대체됨."
   ]
  },
  {
   "cell_type": "code",
   "execution_count": 51,
   "metadata": {
    "ExecuteTime": {
     "end_time": "2019-08-26T07:01:31.797350Z",
     "start_time": "2019-08-26T07:01:31.792394Z"
    }
   },
   "outputs": [],
   "source": [
    "MAX_LENGTH = 10\n",
    "\n",
    "eng_prefixes = (\n",
    "    \"i am \", \"i m \",\n",
    "    \"he is\", \"he s \",\n",
    "    \"she is\", \"she s \",\n",
    "    \"you are\", \"you re \",\n",
    "    \"we are\", \"we re \",\n",
    "    \"they are\", \"they re \"\n",
    ")\n",
    "\n",
    "\n",
    "def filterPair(p):\n",
    "    return len(p[0].split(' ')) < MAX_LENGTH and \\\n",
    "        len(p[1].split(' ')) < MAX_LENGTH and \\\n",
    "        p[1].startswith(eng_prefixes)\n",
    "\n",
    "\n",
    "def filterPairs(pairs):\n",
    "    return [pair for pair in pairs if filterPair(pair)]"
   ]
  },
  {
   "cell_type": "markdown",
   "metadata": {},
   "source": [
    "데이터 준비를 위한 전체 과정:\n",
    "\n",
    "- 텍스트 파일을 읽고 줄로 분리하고, 줄을 쌍으로 분리합니다.\n",
    "- 텍스트를 정규화 하고 길이와 내용으로 필터링 합니다.\n",
    "- 쌍의 문장들에서 단어 리스트를 생성합니다."
   ]
  },
  {
   "cell_type": "code",
   "execution_count": 52,
   "metadata": {
    "ExecuteTime": {
     "end_time": "2019-08-26T07:01:42.969471Z",
     "start_time": "2019-08-26T07:01:38.641069Z"
    }
   },
   "outputs": [
    {
     "name": "stdout",
     "output_type": "stream",
     "text": [
      "Reading lines...\n",
      "Read 135842 sentence pairs\n",
      "Trimmed to 10599 sentence pairs\n",
      "Counting words...\n",
      "Counted words:\n",
      "fra 4345\n",
      "eng 2803\n",
      "['tu es plus grande que moi .', 'you re taller than me .']\n"
     ]
    }
   ],
   "source": [
    "def prepareData(lang1, lang2, reverse=False):\n",
    "    input_lang, output_lang, pairs = readLangs(lang1, lang2, reverse)\n",
    "    print(\"Read %s sentence pairs\" % len(pairs))\n",
    "    pairs = filterPairs(pairs)\n",
    "    print(\"Trimmed to %s sentence pairs\" % len(pairs))\n",
    "    print(\"Counting words...\")\n",
    "    for pair in pairs:\n",
    "        input_lang.addSentence(pair[0])\n",
    "        output_lang.addSentence(pair[1])\n",
    "    print(\"Counted words:\")\n",
    "    print(input_lang.name, input_lang.n_words)\n",
    "    print(output_lang.name, output_lang.n_words)\n",
    "    return input_lang, output_lang, pairs\n",
    "\n",
    "\n",
    "input_lang, output_lang, pairs = prepareData('eng', 'fra', True)\n",
    "print(random.choice(pairs))"
   ]
  },
  {
   "cell_type": "markdown",
   "metadata": {},
   "source": [
    "## 3.2. Seq2Seq 모델"
   ]
  },
  {
   "cell_type": "markdown",
   "metadata": {},
   "source": [
    "### 3.2.1. Encoder\n",
    "\n",
    "![image](https://user-images.githubusercontent.com/48466625/63670441-a20bdc00-c817-11e9-8e5c-b93a16ee2c88.png)"
   ]
  },
  {
   "cell_type": "code",
   "execution_count": 53,
   "metadata": {
    "ExecuteTime": {
     "end_time": "2019-08-26T07:01:57.180945Z",
     "start_time": "2019-08-26T07:01:57.175958Z"
    }
   },
   "outputs": [],
   "source": [
    "class EncoderRNN(nn.Module):\n",
    "    def __init__(self, input_size, hidden_size):\n",
    "        super(EncoderRNN, self).__init__()\n",
    "        self.hidden_size = hidden_size\n",
    "\n",
    "        self.embedding = nn.Embedding(input_size, hidden_size)\n",
    "        self.gru = nn.GRU(hidden_size, hidden_size)\n",
    "\n",
    "    def forward(self, input, hidden):\n",
    "        embedded = self.embedding(input).view(1, 1, -1)\n",
    "        output = embedded\n",
    "        output, hidden = self.gru(output, hidden)\n",
    "        return output, hidden\n",
    "\n",
    "    def initHidden(self):\n",
    "        return torch.zeros(1, 1, self.hidden_size, device=device)"
   ]
  },
  {
   "cell_type": "markdown",
   "metadata": {},
   "source": [
    "### 3.2.2. Attention Decoder\n",
    "\n",
    "![image](https://user-images.githubusercontent.com/48466625/63670499-d1224d80-c817-11e9-979a-f6cd27d4f03a.png)\n",
    "\n",
    "- 어텐션 가중치 게산은 디코더 입력과 hidden state를 입력으로 사용하는 다른 feed-forward layer인 ```attn```으로 수행됨.\n",
    "\n",
    "![image](https://user-images.githubusercontent.com/48466625/63670544-f7e08400-c817-11e9-8e3a-f3d79d80ad5f.png)"
   ]
  },
  {
   "cell_type": "code",
   "execution_count": 54,
   "metadata": {
    "ExecuteTime": {
     "end_time": "2019-08-26T07:02:13.841416Z",
     "start_time": "2019-08-26T07:02:13.831444Z"
    }
   },
   "outputs": [],
   "source": [
    "class AttnDecoderRNN(nn.Module):\n",
    "    def __init__(self, hidden_size, output_size, dropout_p=0.1, max_length=MAX_LENGTH):\n",
    "        super(AttnDecoderRNN, self).__init__()\n",
    "        self.hidden_size = hidden_size\n",
    "        self.output_size = output_size\n",
    "        self.dropout_p = dropout_p\n",
    "        self.max_length = max_length\n",
    "\n",
    "        self.embedding = nn.Embedding(self.output_size, self.hidden_size)\n",
    "        self.attn = nn.Linear(self.hidden_size * 2, self.max_length)\n",
    "        self.attn_combine = nn.Linear(self.hidden_size * 2, self.hidden_size)\n",
    "        self.dropout = nn.Dropout(self.dropout_p)\n",
    "        self.gru = nn.GRU(self.hidden_size, self.hidden_size)\n",
    "        self.out = nn.Linear(self.hidden_size, self.output_size)\n",
    "\n",
    "    def forward(self, input, hidden, encoder_outputs):\n",
    "        embedded = self.embedding(input).view(1, 1, -1)\n",
    "        embedded = self.dropout(embedded)\n",
    "\n",
    "        attn_weights = F.softmax(\n",
    "            self.attn(torch.cat((embedded[0], hidden[0]), 1)), dim=1)\n",
    "        attn_applied = torch.bmm(attn_weights.unsqueeze(0),\n",
    "                                 encoder_outputs.unsqueeze(0))\n",
    "\n",
    "        output = torch.cat((embedded[0], attn_applied[0]), 1)\n",
    "        output = self.attn_combine(output).unsqueeze(0)\n",
    "\n",
    "        output = F.relu(output)\n",
    "        output, hidden = self.gru(output, hidden)\n",
    "\n",
    "        output = F.log_softmax(self.out(output[0]), dim=1)\n",
    "        return output, hidden, attn_weights\n",
    "\n",
    "    def initHidden(self):\n",
    "        return torch.zeros(1, 1, self.hidden_size, device=device)"
   ]
  },
  {
   "cell_type": "markdown",
   "metadata": {},
   "source": [
    "## 3.3. 학습\n",
    "\n",
    "### 3.3.1. 학습 데이터 준비\n",
    "\n",
    "- 각 pair마다 입력 Tensor와 타겟 Tensor가 필요함. "
   ]
  },
  {
   "cell_type": "code",
   "execution_count": 55,
   "metadata": {
    "ExecuteTime": {
     "end_time": "2019-08-26T07:02:21.477672Z",
     "start_time": "2019-08-26T07:02:21.471720Z"
    }
   },
   "outputs": [],
   "source": [
    "def indexesFromSentence(lang, sentence):\n",
    "    return [lang.word2index[word] for word in sentence.split(' ')]\n",
    "\n",
    "\n",
    "def tensorFromSentence(lang, sentence):\n",
    "    indexes = indexesFromSentence(lang, sentence)\n",
    "    indexes.append(EOS_token)\n",
    "    return torch.tensor(indexes, dtype=torch.long, device=device).view(-1, 1)\n",
    "\n",
    "\n",
    "def tensorsFromPair(pair):\n",
    "    input_tensor = tensorFromSentence(input_lang, pair[0])\n",
    "    target_tensor = tensorFromSentence(output_lang, pair[1])\n",
    "    return (input_tensor, target_tensor)"
   ]
  },
  {
   "cell_type": "markdown",
   "metadata": {},
   "source": [
    "### 3.3.2. 모델 학습과 평가"
   ]
  },
  {
   "cell_type": "code",
   "execution_count": 56,
   "metadata": {
    "ExecuteTime": {
     "end_time": "2019-08-26T07:02:36.823923Z",
     "start_time": "2019-08-26T07:02:36.815944Z"
    }
   },
   "outputs": [],
   "source": [
    "teacher_forcing_ratio = 0.5\n",
    "\n",
    "\n",
    "def train(input_tensor, target_tensor, encoder, decoder, encoder_optimizer, decoder_optimizer, criterion, max_length=MAX_LENGTH):\n",
    "    encoder_hidden = encoder.initHidden()\n",
    "\n",
    "    encoder_optimizer.zero_grad()\n",
    "    decoder_optimizer.zero_grad()\n",
    "\n",
    "    input_length = input_tensor.size(0)\n",
    "    target_length = target_tensor.size(0)\n",
    "\n",
    "    encoder_outputs = torch.zeros(max_length, encoder.hidden_size, device=device)\n",
    "\n",
    "    loss = 0\n",
    "\n",
    "    for ei in range(input_length):\n",
    "        encoder_output, encoder_hidden = encoder(\n",
    "            input_tensor[ei], encoder_hidden)\n",
    "        encoder_outputs[ei] = encoder_output[0, 0]\n",
    "\n",
    "    decoder_input = torch.tensor([[SOS_token]], device=device)\n",
    "\n",
    "    decoder_hidden = encoder_hidden\n",
    "\n",
    "    use_teacher_forcing = True if random.random() < teacher_forcing_ratio else False\n",
    "\n",
    "    if use_teacher_forcing:\n",
    "        # Teacher forcing: Feed the target as the next input\n",
    "        for di in range(target_length):\n",
    "            decoder_output, decoder_hidden, decoder_attention = decoder(\n",
    "                decoder_input, decoder_hidden, encoder_outputs)\n",
    "            loss += criterion(decoder_output, target_tensor[di])\n",
    "            decoder_input = target_tensor[di]  # Teacher forcing\n",
    "\n",
    "    else:\n",
    "        # Without teacher forcing: use its own predictions as the next input\n",
    "        for di in range(target_length):\n",
    "            decoder_output, decoder_hidden, decoder_attention = decoder(\n",
    "                decoder_input, decoder_hidden, encoder_outputs)\n",
    "            topv, topi = decoder_output.topk(1)\n",
    "            decoder_input = topi.squeeze().detach()  # detach from history as input\n",
    "\n",
    "            loss += criterion(decoder_output, target_tensor[di])\n",
    "            if decoder_input.item() == EOS_token:\n",
    "                break\n",
    "\n",
    "    loss.backward()\n",
    "\n",
    "    encoder_optimizer.step()\n",
    "    decoder_optimizer.step()\n",
    "\n",
    "    return loss.item() / target_length"
   ]
  },
  {
   "cell_type": "code",
   "execution_count": 57,
   "metadata": {
    "ExecuteTime": {
     "end_time": "2019-08-26T07:02:43.325560Z",
     "start_time": "2019-08-26T07:02:43.321570Z"
    }
   },
   "outputs": [],
   "source": [
    "import time\n",
    "import math\n",
    "\n",
    "# 현재 시간과 진행률%를 고려하여, 경과된 시간과 남은 예상 시간을 출력하는 헬퍼 함수\n",
    "def asMinutes(s):\n",
    "    m = math.floor(s / 60)\n",
    "    s -= m * 60\n",
    "    return '%dm %ds' % (m, s)\n",
    "\n",
    "\n",
    "def timeSince(since, percent):\n",
    "    now = time.time()\n",
    "    s = now - since\n",
    "    es = s / (percent)\n",
    "    rs = es - s\n",
    "    return '%s (- %s)' % (asMinutes(s), asMinutes(rs))"
   ]
  },
  {
   "cell_type": "code",
   "execution_count": 58,
   "metadata": {
    "ExecuteTime": {
     "end_time": "2019-08-26T07:03:09.791894Z",
     "start_time": "2019-08-26T07:03:09.783915Z"
    }
   },
   "outputs": [],
   "source": [
    "def trainIters(encoder, decoder, n_iters, print_every=1000, plot_every=100, learning_rate=0.01):\n",
    "    start = time.time()\n",
    "    plot_losses = []\n",
    "    print_loss_total = 0  # 매 print_every 마다 초기화\n",
    "    plot_loss_total = 0  # 매 print_every 마다 초기화\n",
    "\n",
    "    encoder_optimizer = optim.SGD(encoder.parameters(), lr=learning_rate)\n",
    "    decoder_optimizer = optim.SGD(decoder.parameters(), lr=learning_rate)\n",
    "    training_pairs = [tensorsFromPair(random.choice(pairs))\n",
    "                      for i in range(n_iters)]\n",
    "    criterion = nn.NLLLoss()\n",
    "\n",
    "    for iter in range(1, n_iters + 1):\n",
    "        training_pair = training_pairs[iter - 1]\n",
    "        input_tensor = training_pair[0]\n",
    "        target_tensor = training_pair[1]\n",
    "\n",
    "        loss = train(input_tensor, target_tensor, encoder,\n",
    "                     decoder, encoder_optimizer, decoder_optimizer, criterion)\n",
    "        print_loss_total += loss\n",
    "        plot_loss_total += loss\n",
    "\n",
    "        if iter % print_every == 0:\n",
    "            print_loss_avg = print_loss_total / print_every\n",
    "            print_loss_total = 0\n",
    "            print('%s (%d %d%%) %.4f' % (timeSince(start, iter / n_iters),\n",
    "                                         iter, iter / n_iters * 100, print_loss_avg))\n",
    "\n",
    "        if iter % plot_every == 0:\n",
    "            plot_loss_avg = plot_loss_total / plot_every\n",
    "            plot_losses.append(plot_loss_avg)\n",
    "            plot_loss_total = 0\n",
    "\n",
    "    showPlot(plot_losses)"
   ]
  },
  {
   "cell_type": "code",
   "execution_count": 59,
   "metadata": {
    "ExecuteTime": {
     "end_time": "2019-08-26T07:03:19.606610Z",
     "start_time": "2019-08-26T07:03:19.600650Z"
    }
   },
   "outputs": [],
   "source": [
    "import matplotlib.pyplot as plt\n",
    "plt.switch_backend('agg')\n",
    "import matplotlib.ticker as ticker\n",
    "import numpy as np\n",
    "\n",
    "\n",
    "def showPlot(points):\n",
    "    plt.figure()\n",
    "    fig, ax = plt.subplots()\n",
    "    # this locator puts ticks at regular intervals\n",
    "    loc = ticker.MultipleLocator(base=0.2)\n",
    "    ax.yaxis.set_major_locator(loc)\n",
    "    plt.plot(points)"
   ]
  },
  {
   "cell_type": "code",
   "execution_count": 60,
   "metadata": {
    "ExecuteTime": {
     "end_time": "2019-08-26T07:03:26.751715Z",
     "start_time": "2019-08-26T07:03:26.743737Z"
    }
   },
   "outputs": [],
   "source": [
    "def evaluate(encoder, decoder, sentence, max_length=MAX_LENGTH):\n",
    "    with torch.no_grad():\n",
    "        input_tensor = tensorFromSentence(input_lang, sentence)\n",
    "        input_length = input_tensor.size()[0]\n",
    "        encoder_hidden = encoder.initHidden()\n",
    "\n",
    "        encoder_outputs = torch.zeros(max_length, encoder.hidden_size, device=device)\n",
    "\n",
    "        for ei in range(input_length):\n",
    "            encoder_output, encoder_hidden = encoder(input_tensor[ei],\n",
    "                                                     encoder_hidden)\n",
    "            encoder_outputs[ei] += encoder_output[0, 0]\n",
    "\n",
    "        decoder_input = torch.tensor([[SOS_token]], device=device)  # SOS\n",
    "\n",
    "        decoder_hidden = encoder_hidden\n",
    "\n",
    "        decoded_words = []\n",
    "        decoder_attentions = torch.zeros(max_length, max_length)\n",
    "\n",
    "        for di in range(max_length):\n",
    "            decoder_output, decoder_hidden, decoder_attention = decoder(\n",
    "                decoder_input, decoder_hidden, encoder_outputs)\n",
    "            decoder_attentions[di] = decoder_attention.data\n",
    "            topv, topi = decoder_output.data.topk(1)\n",
    "            if topi.item() == EOS_token:\n",
    "                decoded_words.append('<EOS>')\n",
    "                break\n",
    "            else:\n",
    "                decoded_words.append(output_lang.index2word[topi.item()])\n",
    "\n",
    "            decoder_input = topi.squeeze().detach()\n",
    "\n",
    "        return decoded_words, decoder_attentions[:di + 1]"
   ]
  },
  {
   "cell_type": "code",
   "execution_count": 61,
   "metadata": {
    "ExecuteTime": {
     "end_time": "2019-08-26T07:03:31.814781Z",
     "start_time": "2019-08-26T07:03:31.809795Z"
    }
   },
   "outputs": [],
   "source": [
    "def evaluateRandomly(encoder, decoder, n=10):\n",
    "    for i in range(n):\n",
    "        pair = random.choice(pairs)\n",
    "        print('>', pair[0])\n",
    "        print('=', pair[1])\n",
    "        output_words, attentions = evaluate(encoder, decoder, pair[0])\n",
    "        output_sentence = ' '.join(output_words)\n",
    "        print('<', output_sentence)\n",
    "        print('')"
   ]
  },
  {
   "cell_type": "code",
   "execution_count": 68,
   "metadata": {
    "ExecuteTime": {
     "end_time": "2019-08-26T07:18:00.232059Z",
     "start_time": "2019-08-26T07:10:32.240828Z"
    }
   },
   "outputs": [
    {
     "name": "stdout",
     "output_type": "stream",
     "text": [
      "0m 16s (- 6m 28s) (200 4%) 4.0412\n",
      "0m 33s (- 6m 23s) (400 8%) 3.4068\n",
      "0m 52s (- 6m 21s) (600 12%) 3.3339\n",
      "1m 9s (- 6m 4s) (800 16%) 3.3164\n",
      "1m 27s (- 5m 51s) (1000 20%) 3.1549\n",
      "1m 46s (- 5m 37s) (1200 24%) 3.0958\n",
      "2m 4s (- 5m 19s) (1400 28%) 2.9261\n",
      "2m 21s (- 5m 1s) (1600 32%) 2.8938\n",
      "2m 39s (- 4m 44s) (1800 36%) 2.8298\n",
      "2m 58s (- 4m 27s) (2000 40%) 2.7081\n",
      "3m 16s (- 4m 10s) (2200 44%) 2.7247\n",
      "3m 34s (- 3m 52s) (2400 48%) 2.8141\n",
      "3m 51s (- 3m 33s) (2600 52%) 2.7228\n",
      "4m 9s (- 3m 15s) (2800 56%) 2.6508\n",
      "4m 26s (- 2m 57s) (3000 60%) 2.7546\n",
      "4m 44s (- 2m 39s) (3200 64%) 2.6287\n",
      "5m 1s (- 2m 21s) (3400 68%) 2.6833\n",
      "5m 18s (- 2m 4s) (3600 72%) 2.5948\n",
      "5m 37s (- 1m 46s) (3800 76%) 2.5096\n",
      "5m 55s (- 1m 28s) (4000 80%) 2.5526\n",
      "6m 14s (- 1m 11s) (4200 84%) 2.6337\n",
      "6m 33s (- 0m 53s) (4400 88%) 2.5771\n",
      "6m 51s (- 0m 35s) (4600 92%) 2.5632\n",
      "7m 9s (- 0m 17s) (4800 96%) 2.5192\n",
      "7m 27s (- 0m 0s) (5000 100%) 2.4868\n"
     ]
    },
    {
     "data": {
      "text/plain": [
       "<Figure size 432x288 with 0 Axes>"
      ]
     },
     "metadata": {},
     "output_type": "display_data"
    },
    {
     "data": {
      "image/png": "[encoded data removed]",
      "text/plain": [
       "<Figure size 432x288 with 1 Axes>"
      ]
     },
     "metadata": {
      "needs_background": "light"
     },
     "output_type": "display_data"
    }
   ],
   "source": [
    "hidden_size = 256\n",
    "encoder1 = EncoderRNN(input_lang.n_words, hidden_size)\n",
    "attn_decoder1 = AttnDecoderRNN(hidden_size, output_lang.n_words, dropout_p=0.1)\n",
    "\n",
    "\n",
    "if use_cuda:\n",
    "    encoder1 = encoder1.cuda()\n",
    "    attn_decoder1 = attn_decoder1.cuda()\n",
    "\n",
    "trainIters(encoder1, attn_decoder1, 5000, print_every=200)"
   ]
  },
  {
   "cell_type": "code",
   "execution_count": 73,
   "metadata": {
    "ExecuteTime": {
     "end_time": "2019-08-26T07:18:30.809999Z",
     "start_time": "2019-08-26T07:18:30.735201Z"
    }
   },
   "outputs": [
    {
     "name": "stdout",
     "output_type": "stream",
     "text": [
      "> c est ma faute pas la tienne .\n",
      "= i m to blame not you .\n",
      "< you re going the the . <EOS>\n",
      "\n",
      "> il est trop vieux pour moi .\n",
      "= he s too old for me .\n",
      "< he s a of of . . <EOS>\n",
      "\n",
      "> vous n etes d aucune aide .\n",
      "= you re no help .\n",
      "< you re too in the . <EOS>\n",
      "\n",
      "> vous etes dement .\n",
      "= you re demented .\n",
      "< you re sneaky . <EOS>\n",
      "\n",
      "> elle est d un naturel calme .\n",
      "= she s a quiet person .\n",
      "< she s a a . . <EOS>\n",
      "\n",
      "> vous etes desormais en securite .\n",
      "= you re safe now .\n",
      "< you re too busy . <EOS>\n",
      "\n",
      "> il a peur de pere .\n",
      "= he is afraid of father .\n",
      "< he is afraid of the . <EOS>\n",
      "\n",
      "> vous etes extravertis .\n",
      "= you re extroverted .\n",
      "< you re sneaky . <EOS>\n",
      "\n",
      "> je suis un citoyen francais .\n",
      "= i m a french citizen .\n",
      "< i m a a . . <EOS>\n",
      "\n",
      "> il l a fait auparavant .\n",
      "= he s done this before .\n",
      "< he s in the . . <EOS>\n",
      "\n"
     ]
    }
   ],
   "source": [
    "evaluateRandomly(encoder1, attn_decoder1)"
   ]
  },
  {
   "cell_type": "markdown",
   "metadata": {},
   "source": [
    "## 3.4. Visualization"
   ]
  },
  {
   "cell_type": "code",
   "execution_count": 74,
   "metadata": {
    "ExecuteTime": {
     "end_time": "2019-08-26T07:18:33.475870Z",
     "start_time": "2019-08-26T07:18:33.375159Z"
    }
   },
   "outputs": [
    {
     "data": {
      "text/plain": [
       "<matplotlib.image.AxesImage at 0x1f542816668>"
      ]
     },
     "execution_count": 74,
     "metadata": {},
     "output_type": "execute_result"
    },
    {
     "data": {
      "image/png": "[encoded data removed]",
      "text/plain": [
       "<Figure size 411.429x288 with 1 Axes>"
      ]
     },
     "metadata": {
      "needs_background": "light"
     },
     "output_type": "display_data"
    }
   ],
   "source": [
    "output_words, attentions = evaluate(\n",
    "    encoder1, attn_decoder1, \"je suis trop froid .\")\n",
    "plt.matshow(attentions.numpy())"
   ]
  },
  {
   "cell_type": "code",
   "execution_count": 75,
   "metadata": {
    "ExecuteTime": {
     "end_time": "2019-08-26T07:18:36.816122Z",
     "start_time": "2019-08-26T07:18:36.214731Z"
    },
    "scrolled": false
   },
   "outputs": [
    {
     "name": "stdout",
     "output_type": "stream",
     "text": [
      "input = elle a cinq ans de moins que moi .\n",
      "output = she s a of of . <EOS>\n",
      "input = elle est trop petit .\n",
      "output = she s still a . <EOS>\n",
      "input = je ne crains pas de mourir .\n",
      "output = i m not sure of your . <EOS>\n",
      "input = c est un jeune directeur plein de talent .\n",
      "output = you re a a . <EOS>\n"
     ]
    },
    {
     "name": "stderr",
     "output_type": "stream",
     "text": [
      "c:\\users\\user\\appdata\\local\\programs\\python\\python37\\lib\\site-packages\\matplotlib\\figure.py:445: UserWarning: Matplotlib is currently using agg, which is a non-GUI backend, so cannot show the figure.\n",
      "  % get_backend())\n"
     ]
    },
    {
     "data": {
      "image/png": "[encoded data removed]",
      "text/plain": [
       "<Figure size 432x288 with 2 Axes>"
      ]
     },
     "metadata": {
      "needs_background": "light"
     },
     "output_type": "display_data"
    },
    {
     "data": {
      "image/png": "[encoded data removed]",
      "text/plain": [
       "<Figure size 432x288 with 2 Axes>"
      ]
     },
     "metadata": {
      "needs_background": "light"
     },
     "output_type": "display_data"
    },
    {
     "data": {
      "image/png": "[encoded data removed]",
      "text/plain": [
       "<Figure size 432x288 with 2 Axes>"
      ]
     },
     "metadata": {
      "needs_background": "light"
     },
     "output_type": "display_data"
    },
    {
     "data": {
      "image/png": "[encoded data removed]",
      "text/plain": [
       "<Figure size 432x288 with 2 Axes>"
      ]
     },
     "metadata": {
      "needs_background": "light"
     },
     "output_type": "display_data"
    }
   ],
   "source": [
    "#########축과 라벨을 추가하는 추가 작업을 수행합니다##############\n",
    "\n",
    "def showAttention(input_sentence, output_words, attentions):\n",
    "    # Set up figure with colorbar\n",
    "    fig = plt.figure()\n",
    "    ax = fig.add_subplot(111)\n",
    "    cax = ax.matshow(attentions.numpy(), cmap='bone')\n",
    "    fig.colorbar(cax)\n",
    "\n",
    "    # Set up axes\n",
    "    ax.set_xticklabels([''] + input_sentence.split(' ') +\n",
    "                       ['<EOS>'], rotation=90)\n",
    "    ax.set_yticklabels([''] + output_words)\n",
    "\n",
    "    # Show label at every tick\n",
    "    ax.xaxis.set_major_locator(ticker.MultipleLocator(1))\n",
    "    ax.yaxis.set_major_locator(ticker.MultipleLocator(1))\n",
    "\n",
    "    plt.show()\n",
    "\n",
    "\n",
    "def evaluateAndShowAttention(input_sentence):\n",
    "    output_words, attentions = evaluate(\n",
    "        encoder1, attn_decoder1, input_sentence)\n",
    "    print('input =', input_sentence)\n",
    "    print('output =', ' '.join(output_words))\n",
    "    showAttention(input_sentence, output_words, attentions)\n",
    "\n",
    "\n",
    "evaluateAndShowAttention(\"elle a cinq ans de moins que moi .\")\n",
    "\n",
    "evaluateAndShowAttention(\"elle est trop petit .\")\n",
    "\n",
    "evaluateAndShowAttention(\"je ne crains pas de mourir .\")\n",
    "\n",
    "evaluateAndShowAttention(\"c est un jeune directeur plein de talent .\")"
   ]
  },
  {
   "cell_type": "code",
   "execution_count": 1,
   "metadata": {
    "ExecuteTime": {
     "end_time": "2019-09-04T02:04:05.119278Z",
     "start_time": "2019-09-04T02:04:05.111268Z"
    }
   },
   "outputs": [
    {
     "data": {
      "application/javascript": [
       "$.getScript('https://kmahelona.github.io/ipython_notebook_goodies/ipython_notebook_toc.js')\n"
      ],
      "text/plain": [
       "<IPython.core.display.Javascript object>"
      ]
     },
     "metadata": {},
     "output_type": "display_data"
    }
   ],
   "source": [
    "%%javascript\n",
    "$.getScript('https://kmahelona.github.io/ipython_notebook_goodies/ipython_notebook_toc.js')"
   ]
  }
 ],
 "metadata": {
  "kernelspec": {
   "display_name": "Python 3",
   "language": "python",
   "name": "python3"
  },
  "language_info": {
   "codemirror_mode": {
    "name": "ipython",
    "version": 3
   },
   "file_extension": ".py",
   "mimetype": "text/x-python",
   "name": "python",
   "nbconvert_exporter": "python",
   "pygments_lexer": "ipython3",
   "version": "3.7.2"
  },
  "toc": {
   "base_numbering": 1,
   "nav_menu": {},
   "number_sections": true,
   "sideBar": true,
   "skip_h1_title": false,
   "title_cell": "Table of Contents",
   "title_sidebar": "Contents",
   "toc_cell": false,
   "toc_position": {
    "height": "calc(100% - 180px)",
    "left": "10px",
    "top": "150px",
    "width": "349.091px"
   },
   "toc_section_display": true,
   "toc_window_display": true
  },
  "varInspector": {
   "cols": {
    "lenName": 16,
    "lenType": 16,
    "lenVar": 40
   },
   "kernels_config": {
    "python": {
     "delete_cmd_postfix": "",
     "delete_cmd_prefix": "del ",
     "library": "var_list.py",
     "varRefreshCmd": "print(var_dic_list())"
    },
    "r": {
     "delete_cmd_postfix": ") ",
     "delete_cmd_prefix": "rm(",
     "library": "var_list.r",
     "varRefreshCmd": "cat(var_dic_list()) "
    }
   },
   "types_to_exclude": [
    "module",
    "function",
    "builtin_function_or_method",
    "instance",
    "_Feature"
   ],
   "window_display": false
  }
 },
 "nbformat": 4,
 "nbformat_minor": 2
}
